{
 "cells": [
  {
   "cell_type": "code",
   "execution_count": 78,
   "metadata": {},
   "outputs": [],
   "source": [
    "import keras\n",
    "import tensorflow\n",
    "import os\n",
    "from keras.layers import Input\n",
    "from tensorflow.keras.preprocessing.image import ImageDataGenerator\n",
    "from keras.layers import Flatten, Dense, Conv2D, MaxPooling2D, Dropout\n",
    "from tensorflow.keras.layers import Dropout\n",
    "from tensorflow.keras.layers import Flatten\n",
    "from tensorflow.keras.layers import Dense\n",
    "from tensorflow.keras.layers import Input\n",
    "from keras.layers import BatchNormalization\n",
    "from tensorflow.keras import Sequential\n",
    "from tensorflow.keras.optimizers import Adam\n",
    "from tensorflow.keras.preprocessing.image import img_to_array\n",
    "from tensorflow.keras.preprocessing.image import load_img\n",
    "from tensorflow.keras.utils import to_categorical\n",
    "from sklearn.preprocessing import LabelBinarizer\n",
    "from sklearn.model_selection import train_test_split\n",
    "from sklearn.metrics import classification_report\n",
    "from imutils import paths\n",
    "import matplotlib.pyplot as plt\n",
    "from keras.models import Model\n",
    "from sklearn.utils import shuffle\n",
    "from cv2 import imread\n",
    "import numpy as np\n",
    "import pandas as pd"
   ]
  },
  {
   "cell_type": "code",
   "execution_count": 79,
   "metadata": {},
   "outputs": [
    {
     "data": {
      "text/plain": [
       "['cardboard', 'glass', 'metal', 'paper', 'plastic', 'trash']"
      ]
     },
     "execution_count": 79,
     "metadata": {},
     "output_type": "execute_result"
    }
   ],
   "source": [
    "labels=list()\n",
    "path='Garbage Dataset Fix'\n",
    "os.listdir(path)\n",
    "for i in os.listdir(path):\n",
    "    labels.append(i)\n",
    "labels"
   ]
  },
  {
   "cell_type": "code",
   "execution_count": 80,
   "metadata": {},
   "outputs": [
    {
     "name": "stdout",
     "output_type": "stream",
     "text": [
      "(2550, 150, 150, 3)\n",
      "(2550, 6)\n"
     ]
    }
   ],
   "source": [
    "data = []\n",
    "labels = []\n",
    "width,height=150,150\n",
    "\n",
    "imagePaths = list(paths.list_images('Garbage Dataset Fix'))\n",
    "data = []\n",
    "labels = []\n",
    "\n",
    "for imagePath in imagePaths:\n",
    "    label = imagePath.split(os.path.sep)[-2]\n",
    "    #print(imagePath)\n",
    "    image = load_img(imagePath, target_size=(width, height))\n",
    "    image = img_to_array(image)\n",
    "    data.append(image)\n",
    "    labels.append(label)\n",
    "\n",
    "data = np.array(data, dtype=\"float32\")\n",
    "labels = np.array(labels)\n",
    "\n",
    "lb = LabelBinarizer()\n",
    "labels = lb.fit_transform(labels)\n",
    "#labels = to_categorical(labels)\n",
    "\n",
    "data, labels = shuffle(data, labels)\n",
    "\n",
    "print(data.shape)\n",
    "print(labels.shape)"
   ]
  },
  {
   "cell_type": "code",
   "execution_count": 81,
   "metadata": {},
   "outputs": [
    {
     "name": "stdout",
     "output_type": "stream",
     "text": [
      "Train images: (2040, 150, 150, 3)\n",
      "Test images: (510, 150, 150, 3)\n",
      "Train label: (2040, 6)\n",
      "Test label: (510, 6)\n"
     ]
    }
   ],
   "source": [
    "test_ratio = 0.20\n",
    "\n",
    "# train is now 75% of the entire data set\n",
    "x_train, x_test, y_train, y_test = train_test_split(data, labels, test_size=test_ratio)\n",
    "\n",
    "print(\"Train images:\",x_train.shape)\n",
    "print(\"Test images:\",x_test.shape)\n",
    "print(\"Train label:\",y_train.shape)\n",
    "print(\"Test label:\",y_test.shape)"
   ]
  },
  {
   "cell_type": "code",
   "execution_count": 82,
   "metadata": {},
   "outputs": [
    {
     "name": "stdout",
     "output_type": "stream",
     "text": [
      "Model: \"sequential_5\"\n",
      "_________________________________________________________________\n",
      " Layer (type)                Output Shape              Param #   \n",
      "=================================================================\n",
      " vgg16 (Functional)          (None, 4, 4, 512)         14714688  \n",
      "                                                                 \n",
      " flatten_5 (Flatten)         (None, 8192)              0         \n",
      "                                                                 \n",
      " dense_10 (Dense)            (None, 100)               819300    \n",
      "                                                                 \n",
      " dense_11 (Dense)            (None, 6)                 606       \n",
      "                                                                 \n",
      "=================================================================\n",
      "Total params: 15,534,594\n",
      "Trainable params: 15,534,594\n",
      "Non-trainable params: 0\n",
      "_________________________________________________________________\n"
     ]
    }
   ],
   "source": [
    "from keras.models import Model\n",
    "from keras.layers import Input \n",
    "from keras.applications.vgg16 import VGG16\n",
    "from keras import layers\n",
    "\n",
    "INIT_LR = 1e-4\n",
    "EPOCHS = 64\n",
    "BS = 32\n",
    "\n",
    "vgg = VGG16(weights= \"imagenet\", include_top=False, input_shape= (150,150,3)) \n",
    "\n",
    "model = Sequential()\n",
    "model.add(vgg)\n",
    "model.add(layers.Flatten())\n",
    "model.add(layers.Dense(100, activation = 'relu'))\n",
    "model.add(layers.Dense(6, activation = 'softmax'))\n",
    "\n",
    "opt = Adam(learning_rate=INIT_LR)\n",
    "model.compile(optimizer=opt, loss='categorical_crossentropy', metrics=['accuracy'])\n",
    "model.summary()"
   ]
  },
  {
   "cell_type": "code",
   "execution_count": 83,
   "metadata": {},
   "outputs": [
    {
     "name": "stdout",
     "output_type": "stream",
     "text": [
      "[INFO] training head..\n",
      "Epoch 1/64\n",
      "51/51 [==============================] - 20s 321ms/step - loss: 1.8940 - accuracy: 0.4632 - val_loss: 1.0738 - val_accuracy: 0.5539\n",
      "Epoch 2/64\n",
      "51/51 [==============================] - 15s 286ms/step - loss: 0.8189 - accuracy: 0.6838 - val_loss: 0.7254 - val_accuracy: 0.7157\n",
      "Epoch 3/64\n",
      "51/51 [==============================] - 14s 285ms/step - loss: 0.5992 - accuracy: 0.7653 - val_loss: 0.6333 - val_accuracy: 0.7696\n",
      "Epoch 4/64\n",
      "51/51 [==============================] - 14s 283ms/step - loss: 0.4815 - accuracy: 0.8248 - val_loss: 0.6139 - val_accuracy: 0.7525\n",
      "Epoch 5/64\n",
      "51/51 [==============================] - 15s 288ms/step - loss: 0.3743 - accuracy: 0.8640 - val_loss: 0.5291 - val_accuracy: 0.8088\n",
      "Epoch 6/64\n",
      "51/51 [==============================] - 15s 286ms/step - loss: 0.2149 - accuracy: 0.9222 - val_loss: 0.6163 - val_accuracy: 0.8015\n",
      "Epoch 7/64\n",
      "51/51 [==============================] - 15s 288ms/step - loss: 0.3557 - accuracy: 0.8799 - val_loss: 0.6151 - val_accuracy: 0.7892\n",
      "Epoch 8/64\n",
      "51/51 [==============================] - 15s 291ms/step - loss: 0.1778 - accuracy: 0.9350 - val_loss: 0.5713 - val_accuracy: 0.8309\n",
      "Epoch 9/64\n",
      "51/51 [==============================] - 15s 288ms/step - loss: 0.1045 - accuracy: 0.9657 - val_loss: 0.6504 - val_accuracy: 0.8211\n",
      "Epoch 10/64\n",
      "51/51 [==============================] - 15s 289ms/step - loss: 0.0377 - accuracy: 0.9896 - val_loss: 0.8232 - val_accuracy: 0.8186\n",
      "Epoch 11/64\n",
      "51/51 [==============================] - 15s 286ms/step - loss: 0.0377 - accuracy: 0.9896 - val_loss: 0.6677 - val_accuracy: 0.8333\n",
      "Epoch 12/64\n",
      "51/51 [==============================] - 15s 301ms/step - loss: 0.0433 - accuracy: 0.9871 - val_loss: 0.8115 - val_accuracy: 0.8235\n",
      "Epoch 13/64\n",
      "51/51 [==============================] - 15s 290ms/step - loss: 0.0833 - accuracy: 0.9730 - val_loss: 0.7130 - val_accuracy: 0.7941\n",
      "Epoch 14/64\n",
      "51/51 [==============================] - 15s 288ms/step - loss: 0.0655 - accuracy: 0.9798 - val_loss: 0.7870 - val_accuracy: 0.8309\n",
      "Epoch 15/64\n",
      "51/51 [==============================] - 15s 288ms/step - loss: 0.1066 - accuracy: 0.9730 - val_loss: 0.8794 - val_accuracy: 0.7647\n",
      "Epoch 16/64\n",
      "51/51 [==============================] - 15s 289ms/step - loss: 0.1155 - accuracy: 0.9602 - val_loss: 0.6327 - val_accuracy: 0.8333\n",
      "Epoch 17/64\n",
      "51/51 [==============================] - 15s 289ms/step - loss: 0.1032 - accuracy: 0.9620 - val_loss: 0.7968 - val_accuracy: 0.8064\n",
      "Epoch 18/64\n",
      "51/51 [==============================] - 15s 289ms/step - loss: 0.0460 - accuracy: 0.9841 - val_loss: 0.7191 - val_accuracy: 0.8480\n",
      "Epoch 19/64\n",
      "51/51 [==============================] - 15s 289ms/step - loss: 0.0872 - accuracy: 0.9712 - val_loss: 1.0286 - val_accuracy: 0.7966\n",
      "Epoch 20/64\n",
      "51/51 [==============================] - 15s 289ms/step - loss: 0.0559 - accuracy: 0.9828 - val_loss: 0.8634 - val_accuracy: 0.8407\n",
      "Epoch 21/64\n",
      "51/51 [==============================] - 15s 289ms/step - loss: 0.0161 - accuracy: 0.9957 - val_loss: 0.7289 - val_accuracy: 0.8480\n",
      "Epoch 22/64\n",
      "51/51 [==============================] - 15s 289ms/step - loss: 0.0151 - accuracy: 0.9969 - val_loss: 0.7114 - val_accuracy: 0.8603\n",
      "Epoch 23/64\n",
      "51/51 [==============================] - 15s 289ms/step - loss: 0.0065 - accuracy: 0.9975 - val_loss: 0.6367 - val_accuracy: 0.8775\n",
      "Epoch 24/64\n",
      "51/51 [==============================] - 15s 289ms/step - loss: 0.0032 - accuracy: 0.9994 - val_loss: 0.7098 - val_accuracy: 0.8627\n",
      "Epoch 25/64\n",
      "51/51 [==============================] - 15s 289ms/step - loss: 0.0044 - accuracy: 0.9988 - val_loss: 0.6322 - val_accuracy: 0.8725\n",
      "Epoch 26/64\n",
      "51/51 [==============================] - 15s 289ms/step - loss: 0.0021 - accuracy: 0.9994 - val_loss: 0.6364 - val_accuracy: 0.8775\n",
      "Epoch 27/64\n",
      "51/51 [==============================] - 15s 289ms/step - loss: 0.0018 - accuracy: 0.9988 - val_loss: 0.6508 - val_accuracy: 0.8725\n",
      "Epoch 28/64\n",
      "51/51 [==============================] - 15s 289ms/step - loss: 0.0013 - accuracy: 0.9994 - val_loss: 0.6701 - val_accuracy: 0.8725\n",
      "Epoch 29/64\n",
      "51/51 [==============================] - 15s 289ms/step - loss: 0.0020 - accuracy: 0.9988 - val_loss: 0.6861 - val_accuracy: 0.8701\n",
      "Epoch 30/64\n",
      "51/51 [==============================] - 15s 289ms/step - loss: 0.0021 - accuracy: 0.9988 - val_loss: 0.6922 - val_accuracy: 0.8701\n",
      "Epoch 31/64\n",
      "51/51 [==============================] - 15s 289ms/step - loss: 0.0018 - accuracy: 0.9994 - val_loss: 0.6786 - val_accuracy: 0.8701\n",
      "Epoch 32/64\n",
      "51/51 [==============================] - 15s 289ms/step - loss: 0.0020 - accuracy: 0.9988 - val_loss: 0.6770 - val_accuracy: 0.8701\n",
      "Epoch 33/64\n",
      "51/51 [==============================] - 15s 289ms/step - loss: 0.0016 - accuracy: 0.9988 - val_loss: 0.6806 - val_accuracy: 0.8701\n",
      "Epoch 34/64\n",
      "51/51 [==============================] - 15s 289ms/step - loss: 0.0022 - accuracy: 0.9994 - val_loss: 0.7005 - val_accuracy: 0.8652\n",
      "Epoch 35/64\n",
      "51/51 [==============================] - 15s 289ms/step - loss: 0.0016 - accuracy: 0.9994 - val_loss: 0.6899 - val_accuracy: 0.8701\n",
      "Epoch 36/64\n",
      "51/51 [==============================] - 15s 289ms/step - loss: 0.0019 - accuracy: 0.9988 - val_loss: 0.7105 - val_accuracy: 0.8652\n",
      "Epoch 37/64\n",
      "51/51 [==============================] - 15s 289ms/step - loss: 0.0016 - accuracy: 0.9994 - val_loss: 0.7172 - val_accuracy: 0.8652\n",
      "Epoch 38/64\n",
      "51/51 [==============================] - 15s 289ms/step - loss: 0.0014 - accuracy: 0.9994 - val_loss: 0.7122 - val_accuracy: 0.8701\n",
      "Epoch 39/64\n",
      "51/51 [==============================] - 15s 289ms/step - loss: 0.0013 - accuracy: 0.9994 - val_loss: 0.7220 - val_accuracy: 0.8701\n",
      "Epoch 40/64\n",
      "51/51 [==============================] - 15s 289ms/step - loss: 0.0016 - accuracy: 0.9988 - val_loss: 0.7488 - val_accuracy: 0.8676\n",
      "Epoch 41/64\n",
      "51/51 [==============================] - 15s 296ms/step - loss: 0.0012 - accuracy: 0.9994 - val_loss: 0.7330 - val_accuracy: 0.8725\n",
      "Epoch 42/64\n",
      "51/51 [==============================] - 15s 296ms/step - loss: 0.0013 - accuracy: 0.9994 - val_loss: 0.7493 - val_accuracy: 0.8725\n",
      "Epoch 43/64\n",
      "51/51 [==============================] - 15s 296ms/step - loss: 0.0013 - accuracy: 0.9994 - val_loss: 0.7637 - val_accuracy: 0.8652\n",
      "Epoch 44/64\n",
      "51/51 [==============================] - 15s 296ms/step - loss: 0.0014 - accuracy: 0.9994 - val_loss: 0.7592 - val_accuracy: 0.8775\n",
      "Epoch 45/64\n",
      "51/51 [==============================] - 15s 296ms/step - loss: 0.0014 - accuracy: 0.9994 - val_loss: 0.7432 - val_accuracy: 0.8701\n",
      "Epoch 46/64\n",
      "51/51 [==============================] - 15s 296ms/step - loss: 0.0015 - accuracy: 0.9994 - val_loss: 0.7926 - val_accuracy: 0.8725\n",
      "Epoch 47/64\n",
      "51/51 [==============================] - 15s 296ms/step - loss: 0.0016 - accuracy: 0.9994 - val_loss: 0.7804 - val_accuracy: 0.8676\n",
      "Epoch 48/64\n",
      "51/51 [==============================] - 15s 296ms/step - loss: 0.0012 - accuracy: 0.9988 - val_loss: 0.8160 - val_accuracy: 0.8725\n",
      "Epoch 49/64\n",
      "51/51 [==============================] - 15s 296ms/step - loss: 0.0014 - accuracy: 0.9988 - val_loss: 0.8205 - val_accuracy: 0.8725\n",
      "Epoch 50/64\n",
      "51/51 [==============================] - 15s 296ms/step - loss: 9.9276e-04 - accuracy: 0.9994 - val_loss: 0.8600 - val_accuracy: 0.8701\n",
      "Epoch 51/64\n",
      "51/51 [==============================] - 15s 296ms/step - loss: 0.0012 - accuracy: 0.9988 - val_loss: 0.8959 - val_accuracy: 0.8701\n",
      "Epoch 52/64\n",
      "51/51 [==============================] - 15s 295ms/step - loss: 0.0017 - accuracy: 0.9988 - val_loss: 0.8472 - val_accuracy: 0.8627\n",
      "Epoch 53/64\n",
      "51/51 [==============================] - 15s 296ms/step - loss: 0.0014 - accuracy: 0.9988 - val_loss: 0.9071 - val_accuracy: 0.8750\n",
      "Epoch 54/64\n",
      "51/51 [==============================] - 15s 295ms/step - loss: 0.0016 - accuracy: 0.9994 - val_loss: 0.9473 - val_accuracy: 0.8799\n",
      "Epoch 55/64\n",
      "51/51 [==============================] - 15s 296ms/step - loss: 0.0019 - accuracy: 0.9994 - val_loss: 0.8759 - val_accuracy: 0.8676\n",
      "Epoch 56/64\n",
      "51/51 [==============================] - 15s 296ms/step - loss: 0.0014 - accuracy: 0.9994 - val_loss: 0.8814 - val_accuracy: 0.8676\n",
      "Epoch 57/64\n",
      "51/51 [==============================] - 15s 296ms/step - loss: 0.0015 - accuracy: 0.9988 - val_loss: 0.8723 - val_accuracy: 0.8725\n",
      "Epoch 58/64\n",
      "51/51 [==============================] - 15s 296ms/step - loss: 0.0013 - accuracy: 0.9994 - val_loss: 0.9031 - val_accuracy: 0.8701\n",
      "Epoch 59/64\n",
      "51/51 [==============================] - 15s 295ms/step - loss: 0.0011 - accuracy: 0.9994 - val_loss: 0.9176 - val_accuracy: 0.8652\n",
      "Epoch 60/64\n",
      "51/51 [==============================] - 15s 296ms/step - loss: 9.3302e-04 - accuracy: 0.9994 - val_loss: 0.9470 - val_accuracy: 0.8676\n",
      "Epoch 61/64\n",
      "51/51 [==============================] - 15s 296ms/step - loss: 0.0013 - accuracy: 0.9988 - val_loss: 0.9684 - val_accuracy: 0.8701\n",
      "Epoch 62/64\n",
      "51/51 [==============================] - 15s 296ms/step - loss: 0.0014 - accuracy: 0.9994 - val_loss: 0.9699 - val_accuracy: 0.8701\n",
      "Epoch 63/64\n",
      "51/51 [==============================] - 15s 296ms/step - loss: 0.0010 - accuracy: 0.9994 - val_loss: 0.9501 - val_accuracy: 0.8652\n",
      "Epoch 64/64\n",
      "51/51 [==============================] - 15s 295ms/step - loss: 0.0013 - accuracy: 0.9988 - val_loss: 0.9767 - val_accuracy: 0.8652\n",
      "Done !!\n"
     ]
    }
   ],
   "source": [
    "# train the head of the network\n",
    "print(\"[INFO] training head..\")\n",
    "h = model.fit(x_train,y_train, batch_size = 32, epochs= 64, validation_split = 0.2)\n",
    "print(\"Done !!\")"
   ]
  },
  {
   "cell_type": "code",
   "execution_count": 84,
   "metadata": {},
   "outputs": [
    {
     "name": "stdout",
     "output_type": "stream",
     "text": [
      "[INFO] evaluating network...\n",
      "\n",
      "Training Accuracy Score:- 97.25490196078431\n",
      "\n",
      "Testing Accuracy Score:- 84.90196078431373\n"
     ]
    }
   ],
   "source": [
    "#!pip install scikit-plot\n",
    "from sklearn.metrics import classification_report\n",
    "import matplotlib.pyplot as plt\n",
    "import numpy as np\n",
    "#import scikitplot as skplt\n",
    "from sklearn.metrics import accuracy_score\n",
    "import numpy as np\n",
    "from sklearn import metrics\n",
    "\n",
    "print(\"[INFO] evaluating network...\")\n",
    "predIdxs = model.predict(x_test, batch_size=BS)\n",
    "predIdxs = np.argmax(predIdxs, axis=1)\n",
    "\n",
    "trainpredIdxs = model.predict(x_train, batch_size=BS)\n",
    "trainpredIdxs = np.argmax(trainpredIdxs, axis=1)\n",
    "\n",
    "trainScore=accuracy_score(trainpredIdxs,y_train.argmax(axis=1))*100\n",
    "Score=accuracy_score(predIdxs,y_test.argmax(axis=1))*100\n",
    "\n",
    "print(\"\\nTraining Accuracy Score:-\",trainScore)\n",
    "print(\"\\nTesting Accuracy Score:-\",Score)"
   ]
  },
  {
   "cell_type": "code",
   "execution_count": 85,
   "metadata": {},
   "outputs": [
    {
     "data": {
      "image/png": "[encoded data removed]",
      "text/plain": [
       "<Figure size 640x480 with 1 Axes>"
      ]
     },
     "metadata": {},
     "output_type": "display_data"
    }
   ],
   "source": [
    "# plot the training loss and validation loss\n",
    "N = 64\n",
    "plt.style.use(\"ggplot\")\n",
    "plt.figure()\n",
    "plt.plot(np.arange(0, N), h.history[\"loss\"], label=\"train_loss\")\n",
    "plt.plot(np.arange(0, N), h.history[\"val_loss\"], label=\"val_loss\")\n",
    "plt.title(\"Training Loss and Validation Loss\")\n",
    "plt.xlabel(\"Validation Loss\")\n",
    "plt.ylabel(\"Loss\")\n",
    "plt.legend(loc=\"lower left\",)\n",
    "plt.show()"
   ]
  },
  {
   "cell_type": "code",
   "execution_count": 86,
   "metadata": {},
   "outputs": [
    {
     "data": {
      "image/png": "[encoded data removed]",
      "text/plain": [
       "<Figure size 640x480 with 1 Axes>"
      ]
     },
     "metadata": {},
     "output_type": "display_data"
    }
   ],
   "source": [
    "# plot the training accuracy and validation accuracy\n",
    "N = 64\n",
    "plt.style.use(\"ggplot\")\n",
    "plt.figure()\n",
    "plt.plot(np.arange(0, N), h.history[\"accuracy\"], label=\"train_acc\")\n",
    "plt.plot(np.arange(0, N), h.history[\"val_accuracy\"], label=\"val_accuracy\")\n",
    "plt.title(\"Training Accuracy and Validation Accuracy\")\n",
    "plt.xlabel(\"Validation Accuracy\")\n",
    "plt.ylabel(\"Accuracy\")\n",
    "plt.legend(loc=\"lower left\",)\n",
    "plt.show()"
   ]
  },
  {
   "cell_type": "code",
   "execution_count": 87,
   "metadata": {},
   "outputs": [],
   "source": [
    "ypred = model.predict(x_test)\n",
    "#accuracy_score(np.argmax( ypred,  axis = 1),y_test)"
   ]
  },
  {
   "cell_type": "code",
   "execution_count": 88,
   "metadata": {},
   "outputs": [],
   "source": [
    "ypred = np.argmax(ypred, axis = 1)"
   ]
  },
  {
   "cell_type": "code",
   "execution_count": 89,
   "metadata": {},
   "outputs": [
    {
     "data": {
      "text/plain": [
       "(510, 6)"
      ]
     },
     "execution_count": 89,
     "metadata": {},
     "output_type": "execute_result"
    }
   ],
   "source": [
    "y_test.shape"
   ]
  },
  {
   "cell_type": "code",
   "execution_count": 90,
   "metadata": {},
   "outputs": [
    {
     "name": "stdout",
     "output_type": "stream",
     "text": [
      "[2 3 3 5 1 0 3 4 1 1 1 5 0 4 0 2 2 4 2 3 1 3 0 3 2 1 4 1 2 4 0 4 1 1 5 3 2\n",
      " 0 1 4 3 2 3 4 3 5 0 1 4 0 2 4 3 3 5 0 5 2 0 2 1 0 2 4 3 5 1 2 1 1 2 3 0 1\n",
      " 2 5 4 4 3 5 4 3 0 4 0 5 2 5 5 2 2 5 1 1 5 5 5 5 3 1 3 5 2 3 1 2 4 5 4 3 1\n",
      " 5 4 4 2 5 1 1 3 1 3 4 0 5 5 4 0 3 3 2 3 5 3 1 3 1 0 0 3 0 4 3 5 2 3 0 3 3\n",
      " 3 5 3 1 3 4 2 3 4 5 5 3 0 1 5 4 2 3 0 2 2 0 1 3 2 4 0 5 5 3 4 3 0 4 2 3 0\n",
      " 0 0 1 0 4 2 5 5 1 2 2 2 3 2 2 1 5 0 3 4 5 3 5 5 3 0 4 2 4 4 1 3 0 2 3 4 0\n",
      " 4 0 5 5 4 1 0 5 1 0 1 5 4 1 3 0 2 0 1 1 4 1 3 2 3 4 4 5 1 2 2 5 5 1 4 0 0\n",
      " 0 4 0 1 1 2 3 2 0 1 1 4 0 2 0 0 0 2 2 4 5 1 4 1 5 1 5 5 4 3 5 0 3 4 1 5 5\n",
      " 5 1 2 2 4 3 3 0 3 1 5 3 1 5 3 0 4 4 3 3 2 0 3 4 4 1 0 1 2 1 1 5 2 5 4 3 4\n",
      " 2 0 5 0 0 3 2 4 3 1 3 2 0 2 5 5 4 0 5 2 3 5 4 5 2 0 4 2 5 5 4 2 1 0 2 2 0\n",
      " 4 5 5 2 2 4 2 5 0 3 0 0 4 1 2 1 4 1 1 3 1 3 5 3 3 0 5 1 5 5 4 2 3 3 1 4 3\n",
      " 1 3 3 4 4 2 2 2 2 3 1 5 0 1 2 1 0 0 2 5 1 1 3 1 3 1 3 3 3 2 0 2 2 0 2 4 5\n",
      " 0 4 1 1 5 5 3 0 1 5 0 0 1 3 4 2 2 1 2 3 2 5 2 3 3 3 5 1 5 3 2 3 5 4 0 4 1\n",
      " 5 0 3 0 4 4 0 5 0 3 2 1 4 4 0 2 0 0 4 0 0 2 2 2 1 3 5 0 4]\n"
     ]
    }
   ],
   "source": [
    "y_pred=model.predict(x_test)\n",
    "y_pred=np.argmax(y_pred,axis=1)\n",
    "print(y_pred)"
   ]
  },
  {
   "cell_type": "code",
   "execution_count": 91,
   "metadata": {},
   "outputs": [
    {
     "name": "stdout",
     "output_type": "stream",
     "text": [
      "[[0 1 0 0 0 0]\n",
      " [0 0 0 1 0 0]\n",
      " [0 0 0 1 0 0]\n",
      " ...\n",
      " [0 0 0 0 0 1]\n",
      " [0 0 0 1 0 0]\n",
      " [0 0 0 0 1 0]]\n"
     ]
    }
   ],
   "source": [
    "#y_test=np.argmax(y_test,axis=1)\n",
    "print(y_test)"
   ]
  },
  {
   "cell_type": "code",
   "execution_count": 92,
   "metadata": {},
   "outputs": [],
   "source": [
    "from sklearn.metrics import accuracy_score, confusion_matrix\n",
    "acc = accuracy_score(ypred, np.argmax (y_test, axis = 1))\n",
    "cm = confusion_matrix(ypred, np.argmax (y_test, axis = 1))"
   ]
  },
  {
   "cell_type": "code",
   "execution_count": 93,
   "metadata": {},
   "outputs": [
    {
     "data": {
      "text/plain": [
       "0.8490196078431372"
      ]
     },
     "execution_count": 93,
     "metadata": {},
     "output_type": "execute_result"
    }
   ],
   "source": [
    "acc"
   ]
  },
  {
   "cell_type": "code",
   "execution_count": 94,
   "metadata": {},
   "outputs": [
    {
     "data": {
      "text/plain": [
       "(510, 150, 150, 3)"
      ]
     },
     "execution_count": 94,
     "metadata": {},
     "output_type": "execute_result"
    }
   ],
   "source": [
    "x_test.shape"
   ]
  },
  {
   "cell_type": "code",
   "execution_count": 95,
   "metadata": {},
   "outputs": [
    {
     "name": "stdout",
     "output_type": "stream",
     "text": [
      "              precision    recall  f1-score   support\n",
      "\n",
      "           0       0.85      0.89      0.87        84\n",
      "           1       0.82      0.76      0.79        83\n",
      "           2       0.79      0.82      0.80        87\n",
      "           3       0.91      0.86      0.89        94\n",
      "           4       0.74      0.82      0.78        78\n",
      "           5       1.00      0.94      0.97        84\n",
      "\n",
      "    accuracy                           0.85       510\n",
      "   macro avg       0.85      0.85      0.85       510\n",
      "weighted avg       0.85      0.85      0.85       510\n",
      "\n"
     ]
    }
   ],
   "source": [
    "from sklearn.metrics import classification_report\n",
    "import numpy as np\n",
    "\n",
    "# print the report\n",
    "print(classification_report(y_pred, np.argmax (y_test, axis = 1)))"
   ]
  },
  {
   "cell_type": "code",
   "execution_count": 96,
   "metadata": {},
   "outputs": [
    {
     "name": "stdout",
     "output_type": "stream",
     "text": [
      "(2040, 8192)\n"
     ]
    }
   ],
   "source": [
    "extract = Model(model.inputs, model.layers[-3].output)\n",
    "\n",
    "#del(data)\n",
    "#del(labels)\n",
    "feat_train  = extract.predict(x_train)  \n",
    "feat_test = extract.predict(x_test)      \n",
    "\n",
    "print(feat_train.shape)"
   ]
  },
  {
   "cell_type": "code",
   "execution_count": 97,
   "metadata": {},
   "outputs": [
    {
     "data": {
      "text/plain": [
       "array([1, 3, 3, 5, 1, 0, 3, 4, 2, 1, 1, 5, 0, 4, 0, 2, 2, 4, 2, 3, 1, 3,\n",
       "       0, 3, 2, 1, 4, 4, 2, 4, 0, 4, 2, 1, 5, 3, 2, 0, 4, 4, 4, 2, 1, 4,\n",
       "       2, 5, 0, 1, 1, 0, 2, 4, 3, 3, 5, 0, 5, 0, 0, 2, 1, 0, 2, 4, 3, 5,\n",
       "       1, 2, 1, 1, 2, 3, 0, 4, 2, 5, 4, 4, 3, 5, 0, 3, 0, 4, 2, 5, 2, 5,\n",
       "       5, 4, 2, 5, 1, 1, 5, 5, 5, 5, 3, 1, 3, 5, 2, 3, 1, 2, 4, 5, 1, 3,\n",
       "       1, 5, 4, 4, 2, 5, 1, 1, 3, 4, 3, 2, 4, 5, 5, 4, 0, 3, 0, 2, 3, 5,\n",
       "       3, 1, 3, 1, 0, 0, 3, 0, 4, 3, 5, 2, 3, 0, 3, 3, 0, 5, 3, 1, 3, 2,\n",
       "       4, 3, 4, 0, 5, 3, 0, 1, 5, 4, 4, 3, 0, 2, 2, 0, 1, 3, 2, 2, 0, 5,\n",
       "       5, 3, 4, 3, 0, 2, 4, 3, 0, 0, 3, 1, 0, 4, 2, 5, 5, 4, 2, 2, 1, 3,\n",
       "       2, 2, 1, 5, 3, 3, 4, 5, 3, 5, 5, 3, 0, 4, 1, 4, 1, 4, 3, 0, 2, 3,\n",
       "       4, 0, 4, 0, 5, 5, 4, 4, 0, 5, 2, 0, 4, 5, 0, 4, 3, 0, 2, 0, 1, 1,\n",
       "       4, 4, 3, 2, 3, 4, 4, 5, 2, 2, 2, 5, 5, 1, 4, 0, 4, 0, 4, 0, 1, 1,\n",
       "       2, 3, 2, 0, 1, 1, 1, 0, 2, 0, 3, 0, 1, 2, 4, 5, 1, 4, 1, 5, 1, 5,\n",
       "       5, 4, 3, 5, 0, 3, 2, 1, 0, 2, 5, 4, 2, 2, 1, 3, 3, 0, 3, 1, 5, 0,\n",
       "       1, 2, 3, 0, 4, 4, 3, 3, 2, 0, 4, 4, 4, 1, 3, 1, 3, 1, 1, 5, 3, 5,\n",
       "       4, 3, 4, 2, 0, 5, 0, 0, 3, 2, 2, 3, 1, 3, 2, 0, 2, 5, 5, 4, 0, 5,\n",
       "       2, 3, 5, 4, 5, 2, 0, 4, 2, 5, 5, 4, 2, 1, 0, 2, 2, 0, 2, 5, 5, 2,\n",
       "       2, 4, 2, 5, 3, 3, 0, 0, 4, 1, 1, 1, 4, 1, 2, 3, 1, 3, 5, 3, 3, 0,\n",
       "       5, 1, 5, 5, 4, 2, 0, 3, 1, 4, 3, 1, 0, 3, 4, 4, 2, 2, 2, 2, 3, 4,\n",
       "       5, 0, 1, 2, 1, 0, 0, 2, 5, 1, 1, 0, 1, 3, 4, 3, 3, 3, 2, 0, 2, 4,\n",
       "       0, 1, 4, 5, 0, 4, 2, 1, 5, 5, 3, 0, 2, 5, 0, 0, 1, 3, 4, 2, 4, 1,\n",
       "       2, 3, 2, 2, 2, 0, 3, 3, 5, 1, 5, 3, 2, 3, 5, 4, 0, 4, 1, 5, 0, 1,\n",
       "       0, 4, 4, 0, 5, 0, 0, 2, 1, 4, 4, 0, 2, 0, 0, 4, 0, 0, 1, 2, 2, 1,\n",
       "       3, 5, 3, 4], dtype=int64)"
      ]
     },
     "execution_count": 97,
     "metadata": {},
     "output_type": "execute_result"
    }
   ],
   "source": [
    "rounded_labels=np.argmax(y_test, axis=1)\n",
    "rounded_labels"
   ]
  },
  {
   "cell_type": "code",
   "execution_count": 98,
   "metadata": {},
   "outputs": [
    {
     "data": {
      "text/plain": [
       "(2040, 8192)"
      ]
     },
     "execution_count": 98,
     "metadata": {},
     "output_type": "execute_result"
    }
   ],
   "source": [
    "feat_train.shape"
   ]
  },
  {
   "cell_type": "code",
   "execution_count": 99,
   "metadata": {},
   "outputs": [
    {
     "data": {
      "text/plain": [
       "(510, 8192)"
      ]
     },
     "execution_count": 99,
     "metadata": {},
     "output_type": "execute_result"
    }
   ],
   "source": [
    "feat_test.shape"
   ]
  },
  {
   "attachments": {},
   "cell_type": "markdown",
   "metadata": {},
   "source": [
    "Support Vector Machine (SVM)"
   ]
  },
  {
   "cell_type": "code",
   "execution_count": 100,
   "metadata": {},
   "outputs": [
    {
     "data": {
      "text/html": [
       "<style>#sk-container-id-3 {color: black;background-color: white;}#sk-container-id-3 pre{padding: 0;}#sk-container-id-3 div.sk-toggleable {background-color: white;}#sk-container-id-3 label.sk-toggleable__label {cursor: pointer;display: block;width: 100%;margin-bottom: 0;padding: 0.3em;box-sizing: border-box;text-align: center;}#sk-container-id-3 label.sk-toggleable__label-arrow:before {content: \"▸\";float: left;margin-right: 0.25em;color: #696969;}#sk-container-id-3 label.sk-toggleable__label-arrow:hover:before {color: black;}#sk-container-id-3 div.sk-estimator:hover label.sk-toggleable__label-arrow:before {color: black;}#sk-container-id-3 div.sk-toggleable__content {max-height: 0;max-width: 0;overflow: hidden;text-align: left;background-color: #f0f8ff;}#sk-container-id-3 div.sk-toggleable__content pre {margin: 0.2em;color: black;border-radius: 0.25em;background-color: #f0f8ff;}#sk-container-id-3 input.sk-toggleable__control:checked~div.sk-toggleable__content {max-height: 200px;max-width: 100%;overflow: auto;}#sk-container-id-3 input.sk-toggleable__control:checked~label.sk-toggleable__label-arrow:before {content: \"▾\";}#sk-container-id-3 div.sk-estimator input.sk-toggleable__control:checked~label.sk-toggleable__label {background-color: #d4ebff;}#sk-container-id-3 div.sk-label input.sk-toggleable__control:checked~label.sk-toggleable__label {background-color: #d4ebff;}#sk-container-id-3 input.sk-hidden--visually {border: 0;clip: rect(1px 1px 1px 1px);clip: rect(1px, 1px, 1px, 1px);height: 1px;margin: -1px;overflow: hidden;padding: 0;position: absolute;width: 1px;}#sk-container-id-3 div.sk-estimator {font-family: monospace;background-color: #f0f8ff;border: 1px dotted black;border-radius: 0.25em;box-sizing: border-box;margin-bottom: 0.5em;}#sk-container-id-3 div.sk-estimator:hover {background-color: #d4ebff;}#sk-container-id-3 div.sk-parallel-item::after {content: \"\";width: 100%;border-bottom: 1px solid gray;flex-grow: 1;}#sk-container-id-3 div.sk-label:hover label.sk-toggleable__label {background-color: #d4ebff;}#sk-container-id-3 div.sk-serial::before {content: \"\";position: absolute;border-left: 1px solid gray;box-sizing: border-box;top: 0;bottom: 0;left: 50%;z-index: 0;}#sk-container-id-3 div.sk-serial {display: flex;flex-direction: column;align-items: center;background-color: white;padding-right: 0.2em;padding-left: 0.2em;position: relative;}#sk-container-id-3 div.sk-item {position: relative;z-index: 1;}#sk-container-id-3 div.sk-parallel {display: flex;align-items: stretch;justify-content: center;background-color: white;position: relative;}#sk-container-id-3 div.sk-item::before, #sk-container-id-3 div.sk-parallel-item::before {content: \"\";position: absolute;border-left: 1px solid gray;box-sizing: border-box;top: 0;bottom: 0;left: 50%;z-index: -1;}#sk-container-id-3 div.sk-parallel-item {display: flex;flex-direction: column;z-index: 1;position: relative;background-color: white;}#sk-container-id-3 div.sk-parallel-item:first-child::after {align-self: flex-end;width: 50%;}#sk-container-id-3 div.sk-parallel-item:last-child::after {align-self: flex-start;width: 50%;}#sk-container-id-3 div.sk-parallel-item:only-child::after {width: 0;}#sk-container-id-3 div.sk-dashed-wrapped {border: 1px dashed gray;margin: 0 0.4em 0.5em 0.4em;box-sizing: border-box;padding-bottom: 0.4em;background-color: white;}#sk-container-id-3 div.sk-label label {font-family: monospace;font-weight: bold;display: inline-block;line-height: 1.2em;}#sk-container-id-3 div.sk-label-container {text-align: center;}#sk-container-id-3 div.sk-container {/* jupyter's `normalize.less` sets `[hidden] { display: none; }` but bootstrap.min.css set `[hidden] { display: none !important; }` so we also need the `!important` here to be able to override the default hidden behavior on the sphinx rendered scikit-learn.org. See: https://github.com/scikit-learn/scikit-learn/issues/21755 */display: inline-block !important;position: relative;}#sk-container-id-3 div.sk-text-repr-fallback {display: none;}</style><div id=\"sk-container-id-3\" class=\"sk-top-container\"><div class=\"sk-text-repr-fallback\"><pre>SVC(kernel=&#x27;linear&#x27;)</pre><b>In a Jupyter environment, please rerun this cell to show the HTML representation or trust the notebook. <br />On GitHub, the HTML representation is unable to render, please try loading this page with nbviewer.org.</b></div><div class=\"sk-container\" hidden><div class=\"sk-item\"><div class=\"sk-estimator sk-toggleable\"><input class=\"sk-toggleable__control sk-hidden--visually\" id=\"sk-estimator-id-3\" type=\"checkbox\" checked><label for=\"sk-estimator-id-3\" class=\"sk-toggleable__label sk-toggleable__label-arrow\">SVC</label><div class=\"sk-toggleable__content\"><pre>SVC(kernel=&#x27;linear&#x27;)</pre></div></div></div></div></div>"
      ],
      "text/plain": [
       "SVC(kernel='linear')"
      ]
     },
     "execution_count": 100,
     "metadata": {},
     "output_type": "execute_result"
    }
   ],
   "source": [
    "from sklearn.svm import SVC\n",
    "\n",
    "svm = SVC(kernel='linear')\n",
    "svm.fit(feat_train,np.argmax(y_train,axis=1))"
   ]
  },
  {
   "cell_type": "code",
   "execution_count": 101,
   "metadata": {},
   "outputs": [
    {
     "name": "stdout",
     "output_type": "stream",
     "text": [
      "0.9990196078431373\n"
     ]
    }
   ],
   "source": [
    "y_trainpred = svm.predict(feat_train)\n",
    "#y_testpred = np.argmax(y_testpred, axis = 1)\n",
    "print(accuracy_score(y_trainpred, np.argmax(y_train, axis = 1)))"
   ]
  },
  {
   "cell_type": "code",
   "execution_count": 102,
   "metadata": {},
   "outputs": [
    {
     "name": "stdout",
     "output_type": "stream",
     "text": [
      "0.8333333333333334\n"
     ]
    }
   ],
   "source": [
    "from sklearn.metrics import accuracy_score, confusion_matrix\n",
    "y_testpred = svm.predict(feat_test)\n",
    "#y_testpred = np.argmax(y_testpred, axis = 1)\n",
    "print(accuracy_score(y_testpred, np.argmax(y_test, axis = 1)))"
   ]
  },
  {
   "cell_type": "code",
   "execution_count": 103,
   "metadata": {},
   "outputs": [
    {
     "name": "stdout",
     "output_type": "stream",
     "text": [
      "              precision    recall  f1-score   support\n",
      "\n",
      "           0       0.91      0.86      0.88        93\n",
      "           1       0.75      0.67      0.71        86\n",
      "           2       0.76      0.78      0.77        87\n",
      "           3       0.89      0.90      0.89        88\n",
      "           4       0.72      0.85      0.78        74\n",
      "           5       0.97      0.94      0.96        82\n",
      "\n",
      "    accuracy                           0.83       510\n",
      "   macro avg       0.83      0.83      0.83       510\n",
      "weighted avg       0.84      0.83      0.83       510\n",
      "\n"
     ]
    }
   ],
   "source": [
    "from sklearn.metrics import classification_report\n",
    "print(classification_report(y_testpred, np.argmax(y_test, axis = 1)))"
   ]
  },
  {
   "cell_type": "code",
   "execution_count": 104,
   "metadata": {},
   "outputs": [
    {
     "data": {
      "text/plain": [
       "(510,)"
      ]
     },
     "execution_count": 104,
     "metadata": {},
     "output_type": "execute_result"
    }
   ],
   "source": [
    "y_testpred.shape"
   ]
  },
  {
   "cell_type": "code",
   "execution_count": 105,
   "metadata": {},
   "outputs": [
    {
     "name": "stdout",
     "output_type": "stream",
     "text": [
      "Confusion Matrix\n",
      "\n",
      "[[80  0  2  8  1  2]\n",
      " [ 0 58 13  0 15  0]\n",
      " [ 1 10 68  2  6  0]\n",
      " [ 5  2  0 79  2  0]\n",
      " [ 0  7  4  0 63  0]\n",
      " [ 2  0  3  0  0 77]]\n"
     ]
    },
    {
     "data": {
      "text/plain": [
       "<AxesSubplot:>"
      ]
     },
     "execution_count": 105,
     "metadata": {},
     "output_type": "execute_result"
    },
    {
     "data": {
      "image/png": "[encoded data removed]",
      "text/plain": [
       "<Figure size 640x480 with 2 Axes>"
      ]
     },
     "metadata": {},
     "output_type": "display_data"
    }
   ],
   "source": [
    "#importing confusion matrix\n",
    "from sklearn.metrics import confusion_matrix\n",
    "hasilsvm = confusion_matrix(y_testpred, np.argmax(y_test, axis = 1))\n",
    "print('Confusion Matrix\\n')\n",
    "print(hasilsvm)\n",
    "\n",
    "import seaborn as sns\n",
    "sns.heatmap(hasilsvm)"
   ]
  },
  {
   "cell_type": "code",
   "execution_count": 106,
   "metadata": {},
   "outputs": [],
   "source": [
    "#model.save('vgg-svm-Citra 224*224.h5')"
   ]
  }
 ],
 "metadata": {
  "kernelspec": {
   "display_name": "base",
   "language": "python",
   "name": "python3"
  },
  "language_info": {
   "codemirror_mode": {
    "name": "ipython",
    "version": 3
   },
   "file_extension": ".py",
   "mimetype": "text/x-python",
   "name": "python",
   "nbconvert_exporter": "python",
   "pygments_lexer": "ipython3",
   "version": "3.8.5"
  },
  "orig_nbformat": 4,
  "vscode": {
   "interpreter": {
    "hash": "db6c3e196698b0da669366063a80c75d64b30415a7936e2eacb84d5a5d34ca62"
   }
  }
 },
 "nbformat": 4,
 "nbformat_minor": 2
}
